{
 "cells": [
  {
   "cell_type": "code",
   "execution_count": 2,
   "id": "96f5c5e8",
   "metadata": {},
   "outputs": [],
   "source": [
    "import requests\n",
    "import logging\n",
    "import os\n",
    "from bs4 import BeautifulSoup\n",
    "from urllib.request import urlopen"
   ]
  },
  {
   "cell_type": "code",
   "execution_count": 6,
   "id": "a1a4a8a3",
   "metadata": {},
   "outputs": [],
   "source": [
    "save_dir = \"images/\"\n",
    "if not os.path.exists(save_dir):\n",
    "    os.makedirs(save_dir)"
   ]
  },
  {
   "cell_type": "code",
   "execution_count": 5,
   "id": "2b9d1301",
   "metadata": {},
   "outputs": [],
   "source": [
    "#print (os.getcwd())"
   ]
  },
  {
   "cell_type": "code",
   "execution_count": 147,
   "id": "788be2a0",
   "metadata": {},
   "outputs": [],
   "source": [
    "query = \"sachin tendulkar\"\n",
    "url = requests.get(f\"https://www.google.com/search?rlz=1C1CHBD_en-GBIN1025IN1025&sxsrf=AB5stBhdDEeUGu0cnOofyU2bG_pNtftf0Q:1691047331180&q=query&tbm=isch&source=lnms&sa=X&sqi=2&ved=2ahUKEwium-Sb-r-AAxU8TGwGHcYqD7UQ0pQJegQIDBAB&biw=1600&bih=771&dpr=1https://www.google.com/search?rlz=1C1CHBD_en-GBIN1025IN1025&sxsrf=AB5stBh39celGlX-HIV9Vmg6zmiWyqaFAg:1691053462322&q={query}&tbm=isch&source=lnms&sa=X&sqi=2&ved=2ahUKEwjVxKuHkcCAAxWe1jgGHUaiA9MQ0pQJegQIChAB&biw=1600&bih=771&dpr=1\")"
   ]
  },
  {
   "cell_type": "code",
   "execution_count": 148,
   "id": "4f34d90b",
   "metadata": {},
   "outputs": [],
   "source": [
    "response = url"
   ]
  },
  {
   "cell_type": "code",
   "execution_count": 149,
   "id": "1542290a",
   "metadata": {},
   "outputs": [
    {
     "data": {
      "text/plain": [
       "<Response [200]>"
      ]
     },
     "execution_count": 149,
     "metadata": {},
     "output_type": "execute_result"
    }
   ],
   "source": [
    "response\n"
   ]
  },
  {
   "cell_type": "code",
   "execution_count": 150,
   "id": "f8e573eb",
   "metadata": {},
   "outputs": [],
   "source": [
    "soup = BeautifulSoup(response.content,\"html.parser\")"
   ]
  },
  {
   "cell_type": "code",
   "execution_count": 151,
   "id": "23f43083",
   "metadata": {},
   "outputs": [
    {
     "data": {
      "text/plain": [
       "<!DOCTYPE html PUBLIC \"-//WAPFORUM//DTD XHTML Mobile 1.0//EN\" \"http://www.wapforum.org/DTD/xhtml-mobile10.dtd\">\n",
       "<html lang=\"en-IN\" xmlns=\"http://www.w3.org/1999/xhtml\"><head><meta content=\"application/xhtml+xml; charset=utf-8\" http-equiv=\"Content-Type\"/><meta content=\"no-cache\" name=\"Cache-Control\"/><title>query sachin tendulkar - Google Search</title><style>a{text-decoration:none;color:inherit}a:hover{text-decoration:underline}a img{border:0}body{font-family:arial,sans-serif;padding:8px;margin:0 auto;max-width:700px;min-width:240px;}.FbhRzb{border-left:thin solid #dadce0;border-right:thin solid #dadce0;border-top:thin solid #dadce0;height:40px;overflow:hidden}.n692Zd{margin-bottom:10px}.cvifge{height:40px;border-spacing:0}.QvGUP{height:40px;padding:0 8px 0 8px;vertical-align:top}.O4cRJf{height:40px;width:100%;padding:0;padding-right:16px}.O1ePr{height:40px;padding:0;vertical-align:top}.kgJEQe{height:36px;width:98px;vertical-align:top;margin-top:4px}.lXLRf{vertical-align:top}.MhzMZd{border:0;vertical-align:middle;font-size:14px;height:40px;padding:0;width:100%;padding-left:16px}.xB0fq{height:40px;border:none;font-size:14px;background-color:#1a73e8;color:#fff;padding:0 16px;margin:0;vertical-align:top;cursor:pointer}.xB0fq:focus{border:1px solid #1a73e8}.M7pB2{border:thin solid #dadce0;margin:0 0 3px 0;font-size:13px;font-weight:500;height:40px}.euZec{width:100%;height:40px;text-align:center;border-spacing:0}table.euZec td{padding:0;width:25%}.QIqI7{display:inline-block;padding-top:4px;font-weight:bold;color:#4285f4}.EY24We{border-bottom:2px solid #4285f4}.CsQyDc{display:inline-block;color:#70757a}.TuS8Ad{font-size:14px}.HddGcc{padding:8px;color:#70757a}.dzp8ae{font-weight:bold;color:#3c4043}.rEM8G{color:#70757a}.bookcf{table-layout:fixed;width:100%;border-spacing:0}.InWNIe{text-align:center}.uZgmoc{border:thin solid #dadce0;color:#70757a;font-size:14px;text-align:center;table-layout:fixed;width:100%}.frGj1b{display:block;padding:12px 0 12px 0;width:100%}.BnJWBc{text-align:center;padding:6px 0 13px 0;height:35px}.e3goi{vertical-align:top;padding:0;height:180px}.GpQGbf{margin:auto;border-collapse:collapse;border-spacing:0;width:100%}</style></head><body><style>.X6ZCif{color:#202124;font-size:11px;line-height:16px;display:inline-block;padding-top:2px;overflow:hidden;padding-bottom:4px;width:100%}.TwVfHd{border-radius:16px;border:thin solid #dadce0;display:inline-block;padding:8px 8px;margin-right:8px;margin-bottom:4px}.yekiAe{background-color:#dadce0}.mnTahd{width:100%}.ezO2md{border:thin solid #dadce0;padding:12px 16px 12px 16px;margin-bottom:10px;font-family:arial,sans-serif}.lIMUZd{font-family:arial,sans-serif}.IkMU6e{border-spacing:0}.SjCsie{width:100%}.EnarA{text-align:center}.NZWO1b{width:162px;height:140px;line-height:140px;overflow:'hidden';text-align:center}.yWs4tf{text-align:center;margin:auto;vertical-align:middle;max-width:162px;max-height:140px}.jB2rPd{padding-top:2px;padding-bottom:8px;}.fYyStc{word-break:break-word}.ynsChf{display:block;white-space:nowrap;overflow:hidden;text-overflow:ellipsis}.Fj3V3b{color:#1967d2;font-size:14px;line-height:20px}.FrIlee{color:#202124;font-size:11px;line-height:16px}.F9iS2e{color:#70757a;font-size:11px;line-height:16px}.WMQ2Le{color:#70757a;font-size:12px;line-height:16px}.x3G5ab{color:#202124;font-size:12px;line-height:16px}.fuLhoc{color:#1967d2;font-size:16px;line-height:20px}.epoveb{font-size:24px;line-height:28px;font-weight:400;color:#202124}.dXDvrc{color:#0d652d;font-size:14px;line-height:20px;word-wrap:break-word}.dloBPe{font-weight:bold}.YVIcad{color:#70757a}.JkVVdd{color:#ea4335}.oXZRFd{color:#ea4335}.MQHtg{color:#fbbc04}.pyMRrb{color:#1e8e3e}.EtTZid{color:#1e8e3e}.M3vVJe{color:#1967d2}.qXLe6d{display:block}.NHQNef{font-style:italic}.Cb8Z7c{white-space:pre}a.ZWRArf{text-decoration:none}a .CVA68e:hover{text-decoration:underline}</style><div class=\"n692Zd\"><div class=\"BnJWBc\"><a class=\"lXLRf\" href=\"/?sa=X&amp;rlz=1C1CHBD_en-GBIN1025IN1025&amp;biw=1600&amp;bih=771&amp;output=images&amp;ie=UTF-8&amp;tbm=isch&amp;ved=0ahUKEwi-4arjk8CAAxVBzDgGHVOJDMsQPAgC\"><img alt=\"Google\" class=\"kgJEQe\" src=\"/images/branding/searchlogo/1x/googlelogo_desk_heirloom_color_150x55dp.gif\"/></a></div><div class=\"FbhRzb\"><form action=\"/search\"><input name=\"rlz\" type=\"hidden\" value=\"1C1CHBD_en-GBIN1025IN1025\"/><input name=\"biw\" type=\"hidden\" value=\"1600\"/><input name=\"bih\" type=\"hidden\" value=\"771\"/><input name=\"ie\" type=\"hidden\" value=\"ISO-8859-1\"/><input name=\"tbm\" type=\"hidden\" value=\"isch\"/><input name=\"oq\" type=\"hidden\"/><input name=\"aqs\" type=\"hidden\"/><table class=\"cvifge\"><tr><td class=\"O4cRJf\"><input class=\"MhzMZd\" name=\"q\" type=\"text\" value=\"query sachin tendulkar\"/></td><td class=\"O1ePr\"><input class=\"xB0fq\" type=\"submit\" value=\"Search\"/></td></tr></table></form></div><div class=\"M7pB2\"><table class=\"euZec\"><tbody><tr><td><a class=\"CsQyDc\" href=\"/search?q=query+sachin+tendulkar&amp;rlz=1C1CHBD_en-GBIN1025IN1025&amp;biw=1600&amp;bih=771&amp;ie=UTF-8&amp;source=lnms&amp;sa=X&amp;ved=0ahUKEwi-4arjk8CAAxVBzDgGHVOJDMsQ_AUIBCgA\">ALL</a></td><td><a class=\"CsQyDc\" href=\"/search?q=query+sachin+tendulkar&amp;rlz=1C1CHBD_en-GBIN1025IN1025&amp;biw=1600&amp;bih=771&amp;ie=UTF-8&amp;tbm=nws&amp;source=lnms&amp;sa=X&amp;ved=0ahUKEwi-4arjk8CAAxVBzDgGHVOJDMsQ_AUIBSgB\">NEWS</a></td><td class=\"EY24We\"><span class=\"QIqI7\">IMAGES</span></td><td><a class=\"CsQyDc\" href=\"/search?q=query+sachin+tendulkar&amp;rlz=1C1CHBD_en-GBIN1025IN1025&amp;biw=1600&amp;bih=771&amp;ie=UTF-8&amp;tbm=vid&amp;source=lnms&amp;sa=X&amp;ved=0ahUKEwi-4arjk8CAAxVBzDgGHVOJDMsQ_AUIBygD\">VIDEOS</a></td></tr></tbody></table></div></div><div class=\"X6ZCif\"><a class=\"TwVfHd\" href=\"/search?rlz=1C1CHBD_en-GBIN1025IN1025&amp;biw=1600&amp;bih=771&amp;ie=UTF-8&amp;tbm=isch&amp;q=query+sachin+tendulkar&amp;chips=q:sachin+tendulkar,g_1:batting&amp;sa=X&amp;ved=0ahUKEwi-4arjk8CAAxVBzDgGHVOJDMsQ4lYICygA\">batting</a><a class=\"TwVfHd\" href=\"/search?rlz=1C1CHBD_en-GBIN1025IN1025&amp;biw=1600&amp;bih=771&amp;ie=UTF-8&amp;tbm=isch&amp;q=query+sachin+tendulkar&amp;chips=q:sachin+tendulkar,g_1:wallpaper&amp;sa=X&amp;ved=0ahUKEwi-4arjk8CAAxVBzDgGHVOJDMsQ4lYIDCgB\">wallpaper</a><a class=\"TwVfHd\" href=\"/search?rlz=1C1CHBD_en-GBIN1025IN1025&amp;biw=1600&amp;bih=771&amp;ie=UTF-8&amp;tbm=isch&amp;q=query+sachin+tendulkar&amp;chips=q:sachin+tendulkar,g_1:century&amp;sa=X&amp;ved=0ahUKEwi-4arjk8CAAxVBzDgGHVOJDMsQ4lYIDSgC\">century</a><a class=\"TwVfHd\" href=\"/search?rlz=1C1CHBD_en-GBIN1025IN1025&amp;biw=1600&amp;bih=771&amp;ie=UTF-8&amp;tbm=isch&amp;q=query+sachin+tendulkar&amp;chips=q:sachin+tendulkar,g_1:family&amp;sa=X&amp;ved=0ahUKEwi-4arjk8CAAxVBzDgGHVOJDMsQ4lYIDigD\">family</a><a class=\"TwVfHd\" href=\"/search?rlz=1C1CHBD_en-GBIN1025IN1025&amp;biw=1600&amp;bih=771&amp;ie=UTF-8&amp;tbm=isch&amp;q=query+sachin+tendulkar&amp;chips=q:sachin+tendulkar,g_1:sketch&amp;sa=X&amp;ved=0ahUKEwi-4arjk8CAAxVBzDgGHVOJDMsQ4lYIDygE\">sketch</a><a class=\"TwVfHd\" href=\"/search?rlz=1C1CHBD_en-GBIN1025IN1025&amp;biw=1600&amp;bih=771&amp;ie=UTF-8&amp;tbm=isch&amp;q=query+sachin+tendulkar&amp;chips=q:sachin+tendulkar,g_1:virat+kohli&amp;sa=X&amp;ved=0ahUKEwi-4arjk8CAAxVBzDgGHVOJDMsQ4lYIECgF\">virat kohli</a><a class=\"TwVfHd\" href=\"/search?rlz=1C1CHBD_en-GBIN1025IN1025&amp;biw=1600&amp;bih=771&amp;ie=UTF-8&amp;tbm=isch&amp;q=query+sachin+tendulkar&amp;chips=q:sachin+tendulkar,g_1:ipl&amp;sa=X&amp;ved=0ahUKEwi-4arjk8CAAxVBzDgGHVOJDMsQ4lYIESgG\">ipl</a><a class=\"TwVfHd\" href=\"/search?rlz=1C1CHBD_en-GBIN1025IN1025&amp;biw=1600&amp;bih=771&amp;ie=UTF-8&amp;tbm=isch&amp;q=query+sachin+tendulkar&amp;chips=q:sachin+tendulkar,g_1:daughter&amp;sa=X&amp;ved=0ahUKEwi-4arjk8CAAxVBzDgGHVOJDMsQ4lYIEigH\">daughter</a><a class=\"TwVfHd\" href=\"/search?rlz=1C1CHBD_en-GBIN1025IN1025&amp;biw=1600&amp;bih=771&amp;ie=UTF-8&amp;tbm=isch&amp;q=query+sachin+tendulkar&amp;chips=q:sachin+tendulkar,g_1:bharat+ratna&amp;sa=X&amp;ved=0ahUKEwi-4arjk8CAAxVBzDgGHVOJDMsQ4lYIEygI\">bharat ratna</a><a class=\"TwVfHd\" href=\"/search?rlz=1C1CHBD_en-GBIN1025IN1025&amp;biw=1600&amp;bih=771&amp;ie=UTF-8&amp;tbm=isch&amp;q=query+sachin+tendulkar&amp;chips=q:sachin+tendulkar,g_1:painting&amp;sa=X&amp;ved=0ahUKEwi-4arjk8CAAxVBzDgGHVOJDMsQ4lYIFCgJ\">painting</a></div><div><table class=\"GpQGbf\"><tr><td align=\"center\" class=\"e3goi\"><div class=\"mnTahd\"> <div> <div class=\"lIMUZd\"><div><table class=\"IkMU6e\"><tr><td><a href=\"/url?q=https://in.pinterest.com/pin/409264684858097753/&amp;sa=U&amp;ved=2ahUKEwi-4arjk8CAAxVBzDgGHVOJDMsQqoUBegQIBRAB&amp;usg=AOvVaw1eJWdDryku7h4pl2VBp3Th\"><div class=\"NZWO1b\"><img alt=\"\" class=\"yWs4tf\" src=\"https://encrypted-tbn0.gstatic.com/images?q=tbn:ANd9GcR-pHMCDZ-4MOVkE8vOS63ZZPt-C7VS9Ckm2yCMeTauSvh9eCQEpUenNtVs5hc&amp;s\"/></div></a></td></tr><tr><td><a href=\"/url?q=https://in.pinterest.com/pin/409264684858097753/&amp;sa=U&amp;ved=2ahUKEwi-4arjk8CAAxVBzDgGHVOJDMsQr4kDegQIBRAC&amp;usg=AOvVaw1cDXbRxWPBba3Hvv2kOSRC\"><div class=\"jB2rPd\"> <span class=\"qXLe6d x3G5ab\"> <span class=\"fYyStc\">lovely sachin tendulkar...</span> </span> <span class=\"qXLe6d F9iS2e\"> <span class=\"fYyStc\">in.pinterest.com</span> </span> </div></a></td></tr></table></div></div> </div> </div></td><td align=\"center\" class=\"e3goi\"><div class=\"mnTahd\"> <div> <div class=\"lIMUZd\"><div><table class=\"IkMU6e\"><tr><td><a href=\"/url?q=https://sports.ndtv.com/cricket/sachin-tendulkar-answers-query-on-who-is-the-better-player-between-him-and-virat-kohli-2775052&amp;sa=U&amp;ved=2ahUKEwi-4arjk8CAAxVBzDgGHVOJDMsQqoUBegQIExAB&amp;usg=AOvVaw0D4HbMkesKwbf2dHRBz5Nq\"><div class=\"NZWO1b\"><img alt=\"\" class=\"yWs4tf\" src=\"https://encrypted-tbn0.gstatic.com/images?q=tbn:ANd9GcQRJzRgFvdFRZsmqRV0VLIp8Uyv2zBfBQ1x0Nv9gNBtroyK0ce9M9lMXdn10g&amp;s\"/></div></a></td></tr><tr><td><a href=\"/url?q=https://sports.ndtv.com/cricket/sachin-tendulkar-answers-query-on-who-is-the-better-player-between-him-and-virat-kohli-2775052&amp;sa=U&amp;ved=2ahUKEwi-4arjk8CAAxVBzDgGHVOJDMsQr4kDegQIExAC&amp;usg=AOvVaw0_FgmWHMJSGhcX14wd6igw\"><div class=\"jB2rPd\"> <span class=\"qXLe6d x3G5ab\"> <span class=\"fYyStc\">Sachin Tendulkar Answers...</span> </span> <span class=\"qXLe6d F9iS2e\"> <span class=\"fYyStc\">sports.ndtv.com</span> </span> </div></a></td></tr></table></div></div> </div> </div></td><td align=\"center\" class=\"e3goi\"><div class=\"mnTahd\"> <div> <div class=\"lIMUZd\"><div><table class=\"IkMU6e\"><tr><td><a href=\"/url?q=https://www.hindustantimes.com/mumbai/rti-query-tendulkar-refuses-to-share-info/story-qmWyW00OO7JOWfNgfB39TN.html&amp;sa=U&amp;ved=2ahUKEwi-4arjk8CAAxVBzDgGHVOJDMsQqoUBegQIEhAB&amp;usg=AOvVaw0kM2rhEwkgBIq6VyM114ky\"><div class=\"NZWO1b\"><img alt=\"\" class=\"yWs4tf\" src=\"https://encrypted-tbn0.gstatic.com/images?q=tbn:ANd9GcTBemwJid5HwmJJJrynU4Oij5ERFyOhtSkCrBDkeSyfwoUYT6Nle8-1sBWDH9s&amp;s\"/></div></a></td></tr><tr><td><a href=\"/url?q=https://www.hindustantimes.com/mumbai/rti-query-tendulkar-refuses-to-share-info/story-qmWyW00OO7JOWfNgfB39TN.html&amp;sa=U&amp;ved=2ahUKEwi-4arjk8CAAxVBzDgGHVOJDMsQr4kDegQIEhAC&amp;usg=AOvVaw0NiSylGi0_iBFNixSLPxPG\"><div class=\"jB2rPd\"> <span class=\"qXLe6d x3G5ab\"> <span class=\"fYyStc\">RTI query: Tendulkar...</span> </span> <span class=\"qXLe6d F9iS2e\"> <span class=\"fYyStc\">www.hindustantimes.com</span> </span> </div></a></td></tr></table></div></div> </div> </div></td><td align=\"center\" class=\"e3goi\"><div class=\"mnTahd\"> <div> <div class=\"lIMUZd\"><div><table class=\"IkMU6e\"><tr><td><a href=\"/url?q=https://sports.ndtv.com/cricket/sachin-tendulkar-s-test-retirement-timing-will-remain-confidential-sandeep-patil-1479780&amp;sa=U&amp;ved=2ahUKEwi-4arjk8CAAxVBzDgGHVOJDMsQqoUBegQIDxAB&amp;usg=AOvVaw1AhkbThox-P2C4LT4FpyAG\"><div class=\"NZWO1b\"><img alt=\"\" class=\"yWs4tf\" src=\"https://encrypted-tbn0.gstatic.com/images?q=tbn:ANd9GcR84nmjwie0_akovWLa1QVTIH3xG7KzC6W5rD8V2ApwVaqqGKdmCx4JkrICnq4&amp;s\"/></div></a></td></tr><tr><td><a href=\"/url?q=https://sports.ndtv.com/cricket/sachin-tendulkar-s-test-retirement-timing-will-remain-confidential-sandeep-patil-1479780&amp;sa=U&amp;ved=2ahUKEwi-4arjk8CAAxVBzDgGHVOJDMsQr4kDegQIDxAC&amp;usg=AOvVaw0GtjiRQ6i1Hip9u0wz1JLv\"><div class=\"jB2rPd\"> <span class=\"qXLe6d x3G5ab\"> <span class=\"fYyStc\">Was Sachin Tendulkar Forced...</span> </span> <span class=\"qXLe6d F9iS2e\"> <span class=\"fYyStc\">sports.ndtv.com</span> </span> </div></a></td></tr></table></div></div> </div> </div></td></tr><tr><td align=\"center\" class=\"e3goi\"><div class=\"mnTahd\"> <div> <div class=\"lIMUZd\"><div><table class=\"IkMU6e\"><tr><td><a href=\"/url?q=https://www.deccanherald.com/content/516237/three-years-two-queries-sachin.html&amp;sa=U&amp;ved=2ahUKEwi-4arjk8CAAxVBzDgGHVOJDMsQqoUBegQIDBAB&amp;usg=AOvVaw3MbbJ9tAAAvU23WTm5GFk5\"><div class=\"NZWO1b\"><img alt=\"\" class=\"yWs4tf\" src=\"https://encrypted-tbn0.gstatic.com/images?q=tbn:ANd9GcTx7Ea-tCaLm7N8EPGsnAbl8SpP-ryeDPkuZ46H8ckC7Hm47hsHAGonnhXeLg&amp;s\"/></div></a></td></tr><tr><td><a href=\"/url?q=https://www.deccanherald.com/content/516237/three-years-two-queries-sachin.html&amp;sa=U&amp;ved=2ahUKEwi-4arjk8CAAxVBzDgGHVOJDMsQr4kDegQIDBAC&amp;usg=AOvVaw14oBsgDGOjvlZuEOM-KLoz\"><div class=\"jB2rPd\"> <span class=\"qXLe6d x3G5ab\"> <span class=\"fYyStc\">Three years, two queries:...</span> </span> <span class=\"qXLe6d F9iS2e\"> <span class=\"fYyStc\">www.deccanherald.com</span> </span> </div></a></td></tr></table></div></div> </div> </div></td><td align=\"center\" class=\"e3goi\"><div class=\"mnTahd\"> <div> <div class=\"lIMUZd\"><div><table class=\"IkMU6e\"><tr><td><a href=\"/url?q=https://news8plus.com/sachin-is-a-player-in-which-sport-no-cricket-in-options-gujarat-question-paper-goes-viral/&amp;sa=U&amp;ved=2ahUKEwi-4arjk8CAAxVBzDgGHVOJDMsQqoUBegQIDRAB&amp;usg=AOvVaw3cYdPkVzwodXZwJiW890gZ\"><div class=\"NZWO1b\"><img alt=\"\" class=\"yWs4tf\" src=\"https://encrypted-tbn0.gstatic.com/images?q=tbn:ANd9GcRhVir5aeIN4rABqpfMOFeEuqKPDcnpaihgAGdkQqZABYCVzDQJ-kHAzOAyQg&amp;s\"/></div></a></td></tr><tr><td><a href=\"/url?q=https://news8plus.com/sachin-is-a-player-in-which-sport-no-cricket-in-options-gujarat-question-paper-goes-viral/&amp;sa=U&amp;ved=2ahUKEwi-4arjk8CAAxVBzDgGHVOJDMsQr4kDegQIDRAC&amp;usg=AOvVaw3ReZ5fAFGp4GhkMd99WgJJ\"><div class=\"jB2rPd\"> <span class=\"qXLe6d x3G5ab\"> <span class=\"fYyStc\">Sachin is a player in which...</span> </span> <span class=\"qXLe6d F9iS2e\"> <span class=\"fYyStc\">news8plus.com</span> </span> </div></a></td></tr></table></div></div> </div> </div></td><td align=\"center\" class=\"e3goi\"><div class=\"mnTahd\"> <div> <div class=\"lIMUZd\"><div><table class=\"IkMU6e\"><tr><td><a href=\"/url?q=https://thenewsquery.com/sachin-tendulkars-life-size-statue-to-be-unveiled-during-2023-world-cup/&amp;sa=U&amp;ved=2ahUKEwi-4arjk8CAAxVBzDgGHVOJDMsQqoUBegQIEBAB&amp;usg=AOvVaw0WTyzIOtfE5-6nrxIE1NK_\"><div class=\"NZWO1b\"><img alt=\"\" class=\"yWs4tf\" src=\"https://encrypted-tbn0.gstatic.com/images?q=tbn:ANd9GcQ379Kf_JM9zOi7RppLMT50uEqrNwoQm5eV07imo4Y1_xID2p__EMFYrGOcyQ&amp;s\"/></div></a></td></tr><tr><td><a href=\"/url?q=https://thenewsquery.com/sachin-tendulkars-life-size-statue-to-be-unveiled-during-2023-world-cup/&amp;sa=U&amp;ved=2ahUKEwi-4arjk8CAAxVBzDgGHVOJDMsQr4kDegQIEBAC&amp;usg=AOvVaw2QnWgHKEl1aEVWqS8V787H\"><div class=\"jB2rPd\"> <span class=\"qXLe6d x3G5ab\"> <span class=\"fYyStc\">Sachin Tendulkar's...</span> </span> <span class=\"qXLe6d F9iS2e\"> <span class=\"fYyStc\">thenewsquery.com</span> </span> </div></a></td></tr></table></div></div> </div> </div></td><td align=\"center\" class=\"e3goi\"><div class=\"mnTahd\"> <div> <div class=\"lIMUZd\"><div><table class=\"IkMU6e\"><tr><td><a href=\"/url?q=https://m.economictimes.com/news/sports/sachin-tendulkars-views-are-his-personal-kapil-dev-evades-queries/articleshow/45123903.cms&amp;sa=U&amp;ved=2ahUKEwi-4arjk8CAAxVBzDgGHVOJDMsQqoUBegQIERAB&amp;usg=AOvVaw17CcyO-R08oIpntx7HtdO4\"><div class=\"NZWO1b\"><img alt=\"\" class=\"yWs4tf\" src=\"https://encrypted-tbn0.gstatic.com/images?q=tbn:ANd9GcQ7AGj3xaiWIjjO2RBTtCnUWx8WUoZdods2kdRbHBgj-kF32L-VKD60qaR6gg&amp;s\"/></div></a></td></tr><tr><td><a href=\"/url?q=https://m.economictimes.com/news/sports/sachin-tendulkars-views-are-his-personal-kapil-dev-evades-queries/articleshow/45123903.cms&amp;sa=U&amp;ved=2ahUKEwi-4arjk8CAAxVBzDgGHVOJDMsQr4kDegQIERAC&amp;usg=AOvVaw2gqWSiObmFKitvuxr9m1vO\"><div class=\"jB2rPd\"> <span class=\"qXLe6d x3G5ab\"> <span class=\"fYyStc\">Prime Minister: Sachin...</span> </span> <span class=\"qXLe6d F9iS2e\"> <span class=\"fYyStc\">m.economictimes.com</span> </span> </div></a></td></tr></table></div></div> </div> </div></td></tr><tr><td align=\"center\" class=\"e3goi\"><div class=\"mnTahd\"> <div> <div class=\"lIMUZd\"><div><table class=\"IkMU6e\"><tr><td><a href=\"/url?q=https://www.cricket.com/news/what-are-sachin-tendulkars-and-virat-kohlis-test-records-in-australia-1607949131126&amp;sa=U&amp;ved=2ahUKEwi-4arjk8CAAxVBzDgGHVOJDMsQqoUBegQICxAB&amp;usg=AOvVaw2q89lY2Ss9YptHqBPnhLXv\"><div class=\"NZWO1b\"><img alt=\"\" class=\"yWs4tf\" src=\"https://encrypted-tbn0.gstatic.com/images?q=tbn:ANd9GcQbu_SWZmiW4OES71bV_DO4bWX_E2xyeXskAuw02xSLn9TNE6xe1hNxSleq5Ao&amp;s\"/></div></a></td></tr><tr><td><a href=\"/url?q=https://www.cricket.com/news/what-are-sachin-tendulkars-and-virat-kohlis-test-records-in-australia-1607949131126&amp;sa=U&amp;ved=2ahUKEwi-4arjk8CAAxVBzDgGHVOJDMsQr4kDegQICxAC&amp;usg=AOvVaw2-2TMPjQjtGVxx4mAmnin_\"><div class=\"jB2rPd\"> <span class=\"qXLe6d x3G5ab\"> <span class=\"fYyStc\">What are Sachin Tendulkar's...</span> </span> <span class=\"qXLe6d F9iS2e\"> <span class=\"fYyStc\">www.cricket.com</span> </span> </div></a></td></tr></table></div></div> </div> </div></td><td align=\"center\" class=\"e3goi\"><div class=\"mnTahd\"> <div> <div class=\"lIMUZd\"><div><table class=\"IkMU6e\"><tr><td><a href=\"/url?q=https://www.pinterest.com/pin/409264684858097752/&amp;sa=U&amp;ved=2ahUKEwi-4arjk8CAAxVBzDgGHVOJDMsQqoUBegQICRAB&amp;usg=AOvVaw3arJ1yIdfSS__Lauqk02aj\"><div class=\"NZWO1b\"><img alt=\"\" class=\"yWs4tf\" src=\"https://encrypted-tbn0.gstatic.com/images?q=tbn:ANd9GcRHiTe9Ba2s4iTyGKEhbrQ3G_K5KLhcguaaww_RCcA4_TSTv_HDK3m1Uxe0Q7k&amp;s\"/></div></a></td></tr><tr><td><a href=\"/url?q=https://www.pinterest.com/pin/409264684858097752/&amp;sa=U&amp;ved=2ahUKEwi-4arjk8CAAxVBzDgGHVOJDMsQr4kDegQICRAC&amp;usg=AOvVaw0IiVtv4w9pb_O75mhz3nKH\"><div class=\"jB2rPd\"> <span class=\"qXLe6d x3G5ab\"> <span class=\"fYyStc\">very sweet sachin tendulkar...</span> </span> <span class=\"qXLe6d F9iS2e\"> <span class=\"fYyStc\">www.pinterest.com</span> </span> </div></a></td></tr></table></div></div> </div> </div></td><td align=\"center\" class=\"e3goi\"><div class=\"mnTahd\"> <div> <div class=\"lIMUZd\"><div><table class=\"IkMU6e\"><tr><td><a href=\"/url?q=https://timesofindia.indiatimes.com/sports/sachin-tendulkar/articleshow/8205226.cms&amp;sa=U&amp;ved=2ahUKEwi-4arjk8CAAxVBzDgGHVOJDMsQqoUBegQIDhAB&amp;usg=AOvVaw0vram0L_g-vBIBH1Jy9k9x\"><div class=\"NZWO1b\"><img alt=\"\" class=\"yWs4tf\" src=\"https://encrypted-tbn0.gstatic.com/images?q=tbn:ANd9GcTrdAfzwO_2OLRbLtYjJju9pMom5Z4f0_CTkMXOmhVhwLW8LfF9CI6RrJ4XRQ&amp;s\"/></div></a></td></tr><tr><td><a href=\"/url?q=https://timesofindia.indiatimes.com/sports/sachin-tendulkar/articleshow/8205226.cms&amp;sa=U&amp;ved=2ahUKEwi-4arjk8CAAxVBzDgGHVOJDMsQr4kDegQIDhAC&amp;usg=AOvVaw232Hfw1ShiNCsveA-CPegm\"><div class=\"jB2rPd\"> <span class=\"qXLe6d x3G5ab\"> <span class=\"fYyStc\">Sachin Tendulkar: Latest...</span> </span> <span class=\"qXLe6d F9iS2e\"> <span class=\"fYyStc\">timesofindia.indiatimes.com...</span> </span> </div></a></td></tr></table></div></div> </div> </div></td><td align=\"center\" class=\"e3goi\"><div class=\"mnTahd\"> <div> <div class=\"lIMUZd\"><div><table class=\"IkMU6e\"><tr><td><a href=\"/url?q=https://sports.ndtv.com/cricket/rti-activist-raises-query-on-sachin-tendulkars-penalty-1555035&amp;sa=U&amp;ved=2ahUKEwi-4arjk8CAAxVBzDgGHVOJDMsQqoUBegQIChAB&amp;usg=AOvVaw3s_YyDMZG-xiRYDYZQe9CA\"><div class=\"NZWO1b\"><img alt=\"\" class=\"yWs4tf\" src=\"https://encrypted-tbn0.gstatic.com/images?q=tbn:ANd9GcT-zd4OzD05SAlxQJ-vYnoT6wdEex909cUPftnKrfCuMW3L67A53Mt2D-o62w&amp;s\"/></div></a></td></tr><tr><td><a href=\"/url?q=https://sports.ndtv.com/cricket/rti-activist-raises-query-on-sachin-tendulkars-penalty-1555035&amp;sa=U&amp;ved=2ahUKEwi-4arjk8CAAxVBzDgGHVOJDMsQr4kDegQIChAC&amp;usg=AOvVaw3IBkSbwwm97n5XPxv-nc0A\"><div class=\"jB2rPd\"> <span class=\"qXLe6d x3G5ab\"> <span class=\"fYyStc\">RTI activist raises query...</span> </span> <span class=\"qXLe6d F9iS2e\"> <span class=\"fYyStc\">sports.ndtv.com</span> </span> </div></a></td></tr></table></div></div> </div> </div></td></tr><tr><td align=\"center\" class=\"e3goi\"><div class=\"mnTahd\"> <div> <div class=\"lIMUZd\"><div><table class=\"IkMU6e\"><tr><td><a href=\"/url?q=https://www.latestly.com/sports/cricket/cricketer-roger-federer-or-sachin-tendulkar-playing-tennis-fans-react-to-star-sports-query-see-reactions-1938020.html&amp;sa=U&amp;ved=2ahUKEwi-4arjk8CAAxVBzDgGHVOJDMsQqoUBegQICBAB&amp;usg=AOvVaw2_fO6bzP7qLqcNLnuqtsal\"><div class=\"NZWO1b\"><img alt=\"\" class=\"yWs4tf\" src=\"https://encrypted-tbn0.gstatic.com/images?q=tbn:ANd9GcQLjWaapdFa0wNRMHXGXMPrSB5eQi0XEsrG2TMVmPY3pLZVfTd0jAyLx9cJ0A&amp;s\"/></div></a></td></tr><tr><td><a href=\"/url?q=https://www.latestly.com/sports/cricket/cricketer-roger-federer-or-sachin-tendulkar-playing-tennis-fans-react-to-star-sports-query-see-reactions-1938020.html&amp;sa=U&amp;ved=2ahUKEwi-4arjk8CAAxVBzDgGHVOJDMsQr4kDegQICBAC&amp;usg=AOvVaw0c-Z27xSFHa-qRZEiTqyVb\"><div class=\"jB2rPd\"> <span class=\"qXLe6d x3G5ab\"> <span class=\"fYyStc\">Cricketer Roger Federer or...</span> </span> <span class=\"qXLe6d F9iS2e\"> <span class=\"fYyStc\">www.latestly.com</span> </span> </div></a></td></tr></table></div></div> </div> </div></td><td align=\"center\" class=\"e3goi\"><div class=\"mnTahd\"> <div> <div class=\"lIMUZd\"><div><table class=\"IkMU6e\"><tr><td><a href=\"/url?q=https://sports.ndtv.com/cricket/sachin-tendulkar-s-test-retirement-timing-will-remain-confidential-sandeep-patil-1479780&amp;sa=U&amp;ved=2ahUKEwi-4arjk8CAAxVBzDgGHVOJDMsQqoUBegQIBxAB&amp;usg=AOvVaw38dklNwODMcdTnfc0pzvhn\"><div class=\"NZWO1b\"><img alt=\"\" class=\"yWs4tf\" src=\"https://encrypted-tbn0.gstatic.com/images?q=tbn:ANd9GcQfivTccEgvmFPRBAFq7RY98haTjzgpIvj2jJ2SwQY_X0XIG5pSGD78qLmVptk&amp;s\"/></div></a></td></tr><tr><td><a href=\"/url?q=https://sports.ndtv.com/cricket/sachin-tendulkar-s-test-retirement-timing-will-remain-confidential-sandeep-patil-1479780&amp;sa=U&amp;ved=2ahUKEwi-4arjk8CAAxVBzDgGHVOJDMsQr4kDegQIBxAC&amp;usg=AOvVaw2bxJAM9qa1S_qymhc686lZ\"><div class=\"jB2rPd\"> <span class=\"qXLe6d x3G5ab\"> <span class=\"fYyStc\">Was Sachin Tendulkar Forced...</span> </span> <span class=\"qXLe6d F9iS2e\"> <span class=\"fYyStc\">sports.ndtv.com</span> </span> </div></a></td></tr></table></div></div> </div> </div></td><td align=\"center\" class=\"e3goi\"><div class=\"mnTahd\"> <div> <div class=\"lIMUZd\"><div><table class=\"IkMU6e\"><tr><td><a href=\"/url?q=https://circleofcricket.com/category/IPL/57128/ipl-2020-dreaming-of-another-ipl-win-for-mi-monty-panesar-queries-sachin-tendulkar&amp;sa=U&amp;ved=2ahUKEwi-4arjk8CAAxVBzDgGHVOJDMsQqoUBegQIAxAB&amp;usg=AOvVaw2KWtKpkjtvfNASHRuQSMx7\"><div class=\"NZWO1b\"><img alt=\"\" class=\"yWs4tf\" src=\"https://encrypted-tbn0.gstatic.com/images?q=tbn:ANd9GcQSOX-Qwei1XIYfP8brS4gkuLrpmICzN5fVtFeko04tHHq8GZ60Jdt44gJwmfQ&amp;s\"/></div></a></td></tr><tr><td><a href=\"/url?q=https://circleofcricket.com/category/IPL/57128/ipl-2020-dreaming-of-another-ipl-win-for-mi-monty-panesar-queries-sachin-tendulkar&amp;sa=U&amp;ved=2ahUKEwi-4arjk8CAAxVBzDgGHVOJDMsQr4kDegQIAxAC&amp;usg=AOvVaw1QmsjhV2utW8jSEmvjo-CB\"><div class=\"jB2rPd\"> <span class=\"qXLe6d x3G5ab\"> <span class=\"fYyStc\">IPL 2020: \"Dreaming of...</span> </span> <span class=\"qXLe6d F9iS2e\"> <span class=\"fYyStc\">circleofcricket.com</span> </span> </div></a></td></tr></table></div></div> </div> </div></td><td align=\"center\" class=\"e3goi\"><div class=\"mnTahd\"> <div> <div class=\"lIMUZd\"><div><table class=\"IkMU6e\"><tr><td><a href=\"/url?q=https://hindi.sportskeeda.com/cricket/sachin-tendulkar-answered-query-on-who-is-the-better-player-between-him-and-virat-kohli&amp;sa=U&amp;ved=2ahUKEwi-4arjk8CAAxVBzDgGHVOJDMsQqoUBegQIAhAB&amp;usg=AOvVaw21ft6sqLRwVMPcoJ7QeUrU\"><div class=\"NZWO1b\"><img alt=\"\" class=\"yWs4tf\" src=\"https://encrypted-tbn0.gstatic.com/images?q=tbn:ANd9GcTbStRecX3No_0HuSMYVadLxBlLTE2FQ_6Wg6e7dGXQTupRjzboOvqhuzapeMw&amp;s\"/></div></a></td></tr><tr><td><a href=\"/url?q=https://hindi.sportskeeda.com/cricket/sachin-tendulkar-answered-query-on-who-is-the-better-player-between-him-and-virat-kohli&amp;sa=U&amp;ved=2ahUKEwi-4arjk8CAAxVBzDgGHVOJDMsQr4kDegQIAhAC&amp;usg=AOvVaw1YJCsHnsjzn6UVV-M_ZzkK\"><div class=\"jB2rPd\"> <span class=\"qXLe6d x3G5ab\"> <span class=\"fYyStc\">Sachin Tendulkar Answered...</span> </span> <span class=\"qXLe6d F9iS2e\"> <span class=\"fYyStc\">hindi.sportskeeda.com</span> </span> </div></a></td></tr></table></div></div> </div> </div></td></tr><tr><td align=\"center\" class=\"e3goi\"><div class=\"mnTahd\"> <div> <div class=\"lIMUZd\"><div><table class=\"IkMU6e\"><tr><td><a href=\"/url?q=http://sachin-rameshtendulkar.blogspot.com/2012/03/tendulkars-landmark-achievement-ganguly.html&amp;sa=U&amp;ved=2ahUKEwi-4arjk8CAAxVBzDgGHVOJDMsQqoUBegQIBBAB&amp;usg=AOvVaw35iWACptgCwc7fgc4psvk-\"><div class=\"NZWO1b\"><img alt=\"\" class=\"yWs4tf\" src=\"https://encrypted-tbn0.gstatic.com/images?q=tbn:ANd9GcQ0UYpPFoKOG-8jPIuK1UPsTriUMfPhQISVxWEPsRYxL0waNNxBGNxiVcX7QKg&amp;s\"/></div></a></td></tr><tr><td><a href=\"/url?q=http://sachin-rameshtendulkar.blogspot.com/2012/03/tendulkars-landmark-achievement-ganguly.html&amp;sa=U&amp;ved=2ahUKEwi-4arjk8CAAxVBzDgGHVOJDMsQr4kDegQIBBAC&amp;usg=AOvVaw33olGmxQDLSjHY3Gkqe2QE\"><div class=\"jB2rPd\"> <span class=\"qXLe6d x3G5ab\"> <span class=\"fYyStc\">Sachin-Tendulkar-And-Saurav...</span> </span> <span class=\"qXLe6d F9iS2e\"> <span class=\"fYyStc\">sachin-rameshtendulkar.blog...</span> </span> </div></a></td></tr></table></div></div> </div> </div></td><td align=\"center\" class=\"e3goi\"><div class=\"mnTahd\"> <div> <div class=\"lIMUZd\"><div><table class=\"IkMU6e\"><tr><td><a href=\"/url?q=https://www.sportskeeda.com/cricket/sourav-ganguly-responds-to-sachin-tendulkar-s-query-about-their-batting-performance-under-new-icc-regulations&amp;sa=U&amp;ved=2ahUKEwi-4arjk8CAAxVBzDgGHVOJDMsQqoUBegQIBhAB&amp;usg=AOvVaw2pUMKPUQ7s2wC5gQfTwdjI\"><div class=\"NZWO1b\"><img alt=\"\" class=\"yWs4tf\" src=\"https://encrypted-tbn0.gstatic.com/images?q=tbn:ANd9GcRjbvFUqbhUbV6DBLVEKPNFwHr_znrLWpx3223tL5ofh_xbJMtD_c_c6fr4Lu4&amp;s\"/></div></a></td></tr><tr><td><a href=\"/url?q=https://www.sportskeeda.com/cricket/sourav-ganguly-responds-to-sachin-tendulkar-s-query-about-their-batting-performance-under-new-icc-regulations&amp;sa=U&amp;ved=2ahUKEwi-4arjk8CAAxVBzDgGHVOJDMsQr4kDegQIBhAC&amp;usg=AOvVaw2w5Sq-0JWNqH_11jPG6XvM\"><div class=\"jB2rPd\"> <span class=\"qXLe6d x3G5ab\"> <span class=\"fYyStc\">Sourav Ganguly responds to...</span> </span> <span class=\"qXLe6d F9iS2e\"> <span class=\"fYyStc\">www.sportskeeda.com</span> </span> </div></a></td></tr></table></div></div> </div> </div></td><td align=\"center\" class=\"e3goi\"><div class=\"mnTahd\"> <div> <div class=\"lIMUZd\"><div><table class=\"IkMU6e\"><tr><td><a href=\"/url?q=https://www.hindustantimes.com/cricket/sachin-tendulkar-asked-for-foot-overbridges-in-2016-elphinstone-never-got-one/story-Ioo94LuBWuoEUW3M2wuABP.html&amp;sa=U&amp;ved=2ahUKEwi-4arjk8CAAxVBzDgGHVOJDMsQqoUBegQIABAB&amp;usg=AOvVaw3iz8AzrXV3NKxM8QZSDncI\"><div class=\"NZWO1b\"><img alt=\"\" class=\"yWs4tf\" src=\"https://encrypted-tbn0.gstatic.com/images?q=tbn:ANd9GcRyIOgkaQGpkNhYp0Q9qnfrND5NcDSUQozGTN-tRcNwWmG7zVKv9wnjK1gjXQ&amp;s\"/></div></a></td></tr><tr><td><a href=\"/url?q=https://www.hindustantimes.com/cricket/sachin-tendulkar-asked-for-foot-overbridges-in-2016-elphinstone-never-got-one/story-Ioo94LuBWuoEUW3M2wuABP.html&amp;sa=U&amp;ved=2ahUKEwi-4arjk8CAAxVBzDgGHVOJDMsQr4kDegQIABAC&amp;usg=AOvVaw0yohTCwBCMrm0tY9CRsbkj\"><div class=\"jB2rPd\"> <span class=\"qXLe6d x3G5ab\"> <span class=\"fYyStc\">Sachin Tendulkar asked for...</span> </span> <span class=\"qXLe6d F9iS2e\"> <span class=\"fYyStc\">www.hindustantimes.com</span> </span> </div></a></td></tr></table></div></div> </div> </div></td><td align=\"center\" class=\"e3goi\"><div class=\"mnTahd\"> <div> <div class=\"lIMUZd\"><div><table class=\"IkMU6e\"><tr><td><a href=\"/url?q=https://news.abplive.com/sports/cricket/never-take-short-cuts-in-your-journey-sachin-tendulkar-passes-dads-message-to-son-arjun-1222361&amp;sa=U&amp;ved=2ahUKEwi-4arjk8CAAxVBzDgGHVOJDMsQqoUBegQIARAB&amp;usg=AOvVaw3AdINO9D0Ge_uLPjMIfud9\"><div class=\"NZWO1b\"><img alt=\"\" class=\"yWs4tf\" src=\"https://encrypted-tbn0.gstatic.com/images?q=tbn:ANd9GcR6i41k4iyoPwfYWdNUbnGcw85s3YIomZRVpS1ppo_NwJ0LcEnfHNuI77J5PQ&amp;s\"/></div></a></td></tr><tr><td><a href=\"/url?q=https://news.abplive.com/sports/cricket/never-take-short-cuts-in-your-journey-sachin-tendulkar-passes-dads-message-to-son-arjun-1222361&amp;sa=U&amp;ved=2ahUKEwi-4arjk8CAAxVBzDgGHVOJDMsQr4kDegQIARAC&amp;usg=AOvVaw3ATKCRCp61GDVt2zra_GQN\"><div class=\"jB2rPd\"> <span class=\"qXLe6d x3G5ab\"> <span class=\"fYyStc\">Never Take Short-cuts In...</span> </span> <span class=\"qXLe6d F9iS2e\"> <span class=\"fYyStc\">news.abplive.com</span> </span> </div></a></td></tr></table></div></div> </div> </div></td></tr></table></div><table class=\"uZgmoc\"><tbody><td><a class=\"frGj1b\" href=\"/search?q=query+sachin+tendulkar&amp;rlz=1C1CHBD_en-GBIN1025IN1025&amp;biw=1600&amp;bih=771&amp;ie=UTF-8&amp;tbm=isch&amp;ei=cHDLZL7pBsGY4-EP05Ky2Aw&amp;start=20&amp;sa=N\">Next &gt;</a></td></tbody></table><br/><div class=\"TuS8Ad\" data-ved=\"0ahUKEwi-4arjk8CAAxVBzDgGHVOJDMsQpyoIUg\"><style>.VYM29{font-weight:bold}</style><div align=\"center\" class=\"HddGcc\"><span class=\"VYM29\">Jaipur, Rajasthan</span><span> - </span><span>From your IP address</span><span> - </span><a href=\"/url?q=https://support.google.com/websearch%3Fp%3Dws_settings_location%26hl%3Den-IN&amp;sa=U&amp;ved=0ahUKEwi-4arjk8CAAxVBzDgGHVOJDMsQty4IUw&amp;usg=AOvVaw0jTAqIUNNlay3g23VQHgq0\">Learn more</a></div><div align=\"center\"><a class=\"rEM8G\" href=\"/url?q=https://accounts.google.com/ServiceLogin%3Fcontinue%3Dhttps://www.google.com/search%253Frlz%253D1C1CHBD_en-GBIN1025IN1025%2526sxsrf%253DAB5stBh39celGlX-HIV9Vmg6zmiWyqaFAg:1691053462322%2526q%253Dsachin%252Btendulkar%2526tbm%253Disch%2526source%253Dlnms%2526sa%253DX%2526sqi%253D2%2526ved%253D2ahUKEwjVxKuHkcCAAxWe1jgGHUaiA9MQ0pQJegQIChAB%2526biw%253D1600%2526bih%253D771%2526dpr%253D1%26hl%3Den&amp;sa=U&amp;ved=0ahUKEwi-4arjk8CAAxVBzDgGHVOJDMsQxs8CCFQ&amp;usg=AOvVaw3A8sTcRWxN23gSYyJU8qgW\">Sign in</a></div><div><table class=\"bookcf\"><tbody class=\"InWNIe\"><tr><td><a class=\"rEM8G\" href=\"https://www.google.com/preferences?hl=en&amp;sa=X&amp;ved=0ahUKEwi-4arjk8CAAxVBzDgGHVOJDMsQv5YECFU\">Settings</a></td><td><a class=\"rEM8G\" href=\"https://www.google.com/intl/en_in/policies/privacy/\">Privacy</a></td><td><a class=\"rEM8G\" href=\"https://www.google.com/intl/en_in/policies/terms/\">Terms</a></td></tr></tbody></table></div></div><div> </div></body></html>"
      ]
     },
     "execution_count": 151,
     "metadata": {},
     "output_type": "execute_result"
    }
   ],
   "source": [
    "soup"
   ]
  },
  {
   "cell_type": "code",
   "execution_count": 152,
   "id": "b6b4e1db",
   "metadata": {},
   "outputs": [],
   "source": [
    "image_tags = soup.find_all(\"img\")"
   ]
  },
  {
   "cell_type": "code",
   "execution_count": 153,
   "id": "308ea756",
   "metadata": {},
   "outputs": [
    {
     "data": {
      "text/plain": [
       "[<img alt=\"Google\" class=\"kgJEQe\" src=\"/images/branding/searchlogo/1x/googlelogo_desk_heirloom_color_150x55dp.gif\"/>,\n",
       " <img alt=\"\" class=\"yWs4tf\" src=\"https://encrypted-tbn0.gstatic.com/images?q=tbn:ANd9GcR-pHMCDZ-4MOVkE8vOS63ZZPt-C7VS9Ckm2yCMeTauSvh9eCQEpUenNtVs5hc&amp;s\"/>,\n",
       " <img alt=\"\" class=\"yWs4tf\" src=\"https://encrypted-tbn0.gstatic.com/images?q=tbn:ANd9GcQRJzRgFvdFRZsmqRV0VLIp8Uyv2zBfBQ1x0Nv9gNBtroyK0ce9M9lMXdn10g&amp;s\"/>,\n",
       " <img alt=\"\" class=\"yWs4tf\" src=\"https://encrypted-tbn0.gstatic.com/images?q=tbn:ANd9GcTBemwJid5HwmJJJrynU4Oij5ERFyOhtSkCrBDkeSyfwoUYT6Nle8-1sBWDH9s&amp;s\"/>,\n",
       " <img alt=\"\" class=\"yWs4tf\" src=\"https://encrypted-tbn0.gstatic.com/images?q=tbn:ANd9GcR84nmjwie0_akovWLa1QVTIH3xG7KzC6W5rD8V2ApwVaqqGKdmCx4JkrICnq4&amp;s\"/>,\n",
       " <img alt=\"\" class=\"yWs4tf\" src=\"https://encrypted-tbn0.gstatic.com/images?q=tbn:ANd9GcTx7Ea-tCaLm7N8EPGsnAbl8SpP-ryeDPkuZ46H8ckC7Hm47hsHAGonnhXeLg&amp;s\"/>,\n",
       " <img alt=\"\" class=\"yWs4tf\" src=\"https://encrypted-tbn0.gstatic.com/images?q=tbn:ANd9GcRhVir5aeIN4rABqpfMOFeEuqKPDcnpaihgAGdkQqZABYCVzDQJ-kHAzOAyQg&amp;s\"/>,\n",
       " <img alt=\"\" class=\"yWs4tf\" src=\"https://encrypted-tbn0.gstatic.com/images?q=tbn:ANd9GcQ379Kf_JM9zOi7RppLMT50uEqrNwoQm5eV07imo4Y1_xID2p__EMFYrGOcyQ&amp;s\"/>,\n",
       " <img alt=\"\" class=\"yWs4tf\" src=\"https://encrypted-tbn0.gstatic.com/images?q=tbn:ANd9GcQ7AGj3xaiWIjjO2RBTtCnUWx8WUoZdods2kdRbHBgj-kF32L-VKD60qaR6gg&amp;s\"/>,\n",
       " <img alt=\"\" class=\"yWs4tf\" src=\"https://encrypted-tbn0.gstatic.com/images?q=tbn:ANd9GcQbu_SWZmiW4OES71bV_DO4bWX_E2xyeXskAuw02xSLn9TNE6xe1hNxSleq5Ao&amp;s\"/>,\n",
       " <img alt=\"\" class=\"yWs4tf\" src=\"https://encrypted-tbn0.gstatic.com/images?q=tbn:ANd9GcRHiTe9Ba2s4iTyGKEhbrQ3G_K5KLhcguaaww_RCcA4_TSTv_HDK3m1Uxe0Q7k&amp;s\"/>,\n",
       " <img alt=\"\" class=\"yWs4tf\" src=\"https://encrypted-tbn0.gstatic.com/images?q=tbn:ANd9GcTrdAfzwO_2OLRbLtYjJju9pMom5Z4f0_CTkMXOmhVhwLW8LfF9CI6RrJ4XRQ&amp;s\"/>,\n",
       " <img alt=\"\" class=\"yWs4tf\" src=\"https://encrypted-tbn0.gstatic.com/images?q=tbn:ANd9GcT-zd4OzD05SAlxQJ-vYnoT6wdEex909cUPftnKrfCuMW3L67A53Mt2D-o62w&amp;s\"/>,\n",
       " <img alt=\"\" class=\"yWs4tf\" src=\"https://encrypted-tbn0.gstatic.com/images?q=tbn:ANd9GcQLjWaapdFa0wNRMHXGXMPrSB5eQi0XEsrG2TMVmPY3pLZVfTd0jAyLx9cJ0A&amp;s\"/>,\n",
       " <img alt=\"\" class=\"yWs4tf\" src=\"https://encrypted-tbn0.gstatic.com/images?q=tbn:ANd9GcQfivTccEgvmFPRBAFq7RY98haTjzgpIvj2jJ2SwQY_X0XIG5pSGD78qLmVptk&amp;s\"/>,\n",
       " <img alt=\"\" class=\"yWs4tf\" src=\"https://encrypted-tbn0.gstatic.com/images?q=tbn:ANd9GcQSOX-Qwei1XIYfP8brS4gkuLrpmICzN5fVtFeko04tHHq8GZ60Jdt44gJwmfQ&amp;s\"/>,\n",
       " <img alt=\"\" class=\"yWs4tf\" src=\"https://encrypted-tbn0.gstatic.com/images?q=tbn:ANd9GcTbStRecX3No_0HuSMYVadLxBlLTE2FQ_6Wg6e7dGXQTupRjzboOvqhuzapeMw&amp;s\"/>,\n",
       " <img alt=\"\" class=\"yWs4tf\" src=\"https://encrypted-tbn0.gstatic.com/images?q=tbn:ANd9GcQ0UYpPFoKOG-8jPIuK1UPsTriUMfPhQISVxWEPsRYxL0waNNxBGNxiVcX7QKg&amp;s\"/>,\n",
       " <img alt=\"\" class=\"yWs4tf\" src=\"https://encrypted-tbn0.gstatic.com/images?q=tbn:ANd9GcRjbvFUqbhUbV6DBLVEKPNFwHr_znrLWpx3223tL5ofh_xbJMtD_c_c6fr4Lu4&amp;s\"/>,\n",
       " <img alt=\"\" class=\"yWs4tf\" src=\"https://encrypted-tbn0.gstatic.com/images?q=tbn:ANd9GcRyIOgkaQGpkNhYp0Q9qnfrND5NcDSUQozGTN-tRcNwWmG7zVKv9wnjK1gjXQ&amp;s\"/>,\n",
       " <img alt=\"\" class=\"yWs4tf\" src=\"https://encrypted-tbn0.gstatic.com/images?q=tbn:ANd9GcR6i41k4iyoPwfYWdNUbnGcw85s3YIomZRVpS1ppo_NwJ0LcEnfHNuI77J5PQ&amp;s\"/>]"
      ]
     },
     "execution_count": 153,
     "metadata": {},
     "output_type": "execute_result"
    }
   ],
   "source": [
    "image_tags"
   ]
  },
  {
   "cell_type": "code",
   "execution_count": 154,
   "id": "f987def0",
   "metadata": {},
   "outputs": [],
   "source": [
    "del image_tags[0]"
   ]
  },
  {
   "cell_type": "code",
   "execution_count": 155,
   "id": "8283e6b0",
   "metadata": {},
   "outputs": [
    {
     "data": {
      "text/plain": [
       "20"
      ]
     },
     "execution_count": 155,
     "metadata": {},
     "output_type": "execute_result"
    }
   ],
   "source": [
    "len(image_tags)"
   ]
  },
  {
   "cell_type": "code",
   "execution_count": 156,
   "id": "f4314f8a",
   "metadata": {},
   "outputs": [],
   "source": [
    "for i in image_tags:\n",
    "    image_url=i['src']\n",
    "    image_data = requests.get(image_url).content\n",
    "    with open(os.path.join(save_dir,f\"{query}_{image_tags.index(i)}.jpg\"),\"wb\") as f:\n",
    "        f.write(image_data)\n",
    "    "
   ]
  }
 ],
 "metadata": {
  "kernelspec": {
   "display_name": "Python 3 (ipykernel)",
   "language": "python",
   "name": "python3"
  },
  "language_info": {
   "codemirror_mode": {
    "name": "ipython",
    "version": 3
   },
   "file_extension": ".py",
   "mimetype": "text/x-python",
   "name": "python",
   "nbconvert_exporter": "python",
   "pygments_lexer": "ipython3",
   "version": "3.10.9"
  }
 },
 "nbformat": 4,
 "nbformat_minor": 5
}
